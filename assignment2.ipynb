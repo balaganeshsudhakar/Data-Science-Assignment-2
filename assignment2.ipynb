{
 "cells": [
  {
   "cell_type": "markdown",
   "id": "7a59b34c-c832-4efe-af0f-bf7b43528622",
   "metadata": {},
   "source": [
    "## Assignments 2"
   ]
  },
  {
   "cell_type": "markdown",
   "id": "f986aa37-ec6b-4f35-86a5-84096a1574ea",
   "metadata": {},
   "source": [
    "## Function"
   ]
  },
  {
   "cell_type": "markdown",
   "id": "7d94459c-8f11-4cef-b93e-89fb545454ff",
   "metadata": {},
   "source": [
    "### 1. Write a function add_numbers that takes two numbers as arguments and return their sum"
   ]
  },
  {
   "cell_type": "code",
   "execution_count": 5,
   "id": "5474c00c-5fc3-4e93-b9e3-cc433eef1826",
   "metadata": {},
   "outputs": [],
   "source": [
    "def add(a,b):\n",
    "    c=a+b\n",
    "    print('a value is',a)\n",
    "    print('b value is',b)\n",
    "    print(c)"
   ]
  },
  {
   "cell_type": "code",
   "execution_count": 7,
   "id": "e636bf44-e7de-4400-b6dc-a7405051d902",
   "metadata": {},
   "outputs": [
    {
     "name": "stdout",
     "output_type": "stream",
     "text": [
      "a value is 1\n",
      "b value is 2\n",
      "3\n"
     ]
    }
   ],
   "source": [
    "add(1,2)"
   ]
  },
  {
   "cell_type": "markdown",
   "id": "f2f94935-163f-4feb-a074-3ed8a854b6d2",
   "metadata": {},
   "source": [
    "## 2.Write a function multiply_numbers that takes two numbers as arguments and return their product."
   ]
  },
  {
   "cell_type": "code",
   "execution_count": 10,
   "id": "19c715c2-7c5b-4322-9480-3810c3ae8a00",
   "metadata": {},
   "outputs": [],
   "source": [
    "def multiply(a,b):\n",
    "    d=a*b\n",
    "    print('a value is',a)\n",
    "    print('b value is',b)\n",
    "    print(d)"
   ]
  },
  {
   "cell_type": "code",
   "execution_count": 11,
   "id": "49d284cc-9b4f-40af-84bb-15467e1107c3",
   "metadata": {},
   "outputs": [
    {
     "name": "stdout",
     "output_type": "stream",
     "text": [
      "a value is 20\n",
      "b value is 2\n",
      "40\n"
     ]
    }
   ],
   "source": [
    "multiply(20,2)"
   ]
  },
  {
   "cell_type": "code",
   "execution_count": null,
   "id": "ff84d36f-97dd-49e1-9ab8-933214d1ebdd",
   "metadata": {},
   "outputs": [],
   "source": []
  },
  {
   "cell_type": "markdown",
   "id": "c6b61c82-b67d-4146-a863-5b8ec28e78ad",
   "metadata": {},
   "source": [
    "## 3.Write a function divide_numbers that takes two numbers as arguments and return their quotient.Make sure to handlethe casewhere the second number is 0."
   ]
  },
  {
   "cell_type": "code",
   "execution_count": null,
   "id": "45e89da0-3200-47b8-9291-8600f67d8295",
   "metadata": {},
   "outputs": [],
   "source": [
    "def divide(a,b):\n",
    "    m=a/b\n",
    "    print('a value is',a)\n",
    "    print('b value is',b)\n",
    "    print(m)\n",
    "    "
   ]
  },
  {
   "cell_type": "code",
   "execution_count": 13,
   "id": "24847255-4228-4bc4-ad97-b2faf45fedca",
   "metadata": {},
   "outputs": [],
   "source": [
    "m=(1,0)"
   ]
  },
  {
   "cell_type": "markdown",
   "id": "537c2bb0-1900-454f-8deb-23335c87ebf6",
   "metadata": {},
   "source": [
    "## OOP'S CONCEPT"
   ]
  },
  {
   "cell_type": "markdown",
   "id": "6e654055-8887-46aa-a183-a3f6c7d6df8b",
   "metadata": {},
   "source": [
    "## 4. Write a function calculate_average that takes a list of numbers as an  argument and return their average?"
   ]
  },
  {
   "cell_type": "code",
   "execution_count": 14,
   "id": "7a03775e-abe9-4815-a2d5-8014de0d1a48",
   "metadata": {},
   "outputs": [],
   "source": [
    "def calculate_average(numbers):\n",
    "    if not numbers :\n",
    "        return 0\n",
    "    total = sum(numbers)\n",
    "    return total / len(numbers)\n",
    "    "
   ]
  },
  {
   "cell_type": "code",
   "execution_count": 15,
   "id": "cd81acb4-dbfb-4552-91a1-cced8486787a",
   "metadata": {},
   "outputs": [
    {
     "name": "stdout",
     "output_type": "stream",
     "text": [
      "Average: 5.8\n"
     ]
    }
   ],
   "source": [
    "numbers_list=[10,2,4,6,7]\n",
    "average=calculate_average(numbers_list)\n",
    "print(\"Average:\", average)"
   ]
  },
  {
   "cell_type": "markdown",
   "id": "38fc911b-35b3-420b-858c-1ba32af6f7e4",
   "metadata": {},
   "source": [
    "### 4.Create a class bank with attributes name and accounts.Add methods add_account,remove_account andget_total_balance that add anaccount from the list,and return the total  balance of all the accounts respectively"
   ]
  },
  {
   "cell_type": "code",
   "execution_count": 16,
   "id": "7a0047df-793d-4739-a116-96e1110a2960",
   "metadata": {},
   "outputs": [],
   "source": [
    "class Bank:\n",
    "    def __init__(self, name):\n",
    "        self.name = name\n",
    "        self.accounts = []\n",
    "\n",
    "    def add_account(self, account):\n",
    "        self.accounts.append(account)\n",
    "\n",
    "    def remove_account(self, account):\n",
    "        if account in self.accounts:\n",
    "            self.accounts.remove(account)\n",
    "            print(\"Account removed successfully.\")\n",
    "        else:\n",
    "            print(\"Account not found.\")\n",
    "\n",
    "    def get_total_balance(self):\n",
    "        total_balance = sum(account.balance for account in self.accounts)\n",
    "        return total_balance\n",
    "\n",
    "\n"
   ]
  },
  {
   "cell_type": "code",
   "execution_count": 17,
   "id": "ce34e4c3-c0a2-4925-bf51-7138095723d0",
   "metadata": {},
   "outputs": [
    {
     "name": "stdout",
     "output_type": "stream",
     "text": [
      "Total balance of all accounts: 6000\n",
      "Account removed successfully.\n",
      "Total balance of all accounts after removing one account: 4000\n"
     ]
    }
   ],
   "source": [
    "class Account:\n",
    "    def __init__(self, balance):\n",
    "        self.balance = balance\n",
    "\n",
    "bank = Bank(\"Example Bank\")\n",
    "account1 = Account(1000)\n",
    "account2 = Account(2000)\n",
    "account3 = Account(3000)\n",
    "\n",
    "bank.add_account(account1)\n",
    "bank.add_account(account2)\n",
    "bank.add_account(account3)\n",
    "\n",
    "print(\"Total balance of all accounts:\", bank.get_total_balance())\n",
    "\n",
    "bank.remove_account(account2)\n",
    "\n",
    "print(\"Total balance of all accounts after removing one account:\", bank.get_total_balance())"
   ]
  },
  {
   "cell_type": "code",
   "execution_count": null,
   "id": "7bbe0e4e-5243-45eb-b5ae-fb8dcaf8ba19",
   "metadata": {},
   "outputs": [],
   "source": []
  }
 ],
 "metadata": {
  "kernelspec": {
   "display_name": "Python 3 (ipykernel)",
   "language": "python",
   "name": "python3"
  },
  "language_info": {
   "codemirror_mode": {
    "name": "ipython",
    "version": 3
   },
   "file_extension": ".py",
   "mimetype": "text/x-python",
   "name": "python",
   "nbconvert_exporter": "python",
   "pygments_lexer": "ipython3",
   "version": "3.11.4"
  }
 },
 "nbformat": 4,
 "nbformat_minor": 5
}
